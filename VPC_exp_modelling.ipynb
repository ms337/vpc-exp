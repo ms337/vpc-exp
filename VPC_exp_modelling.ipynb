{
  "nbformat": 4,
  "nbformat_minor": 0,
  "metadata": {
    "kernelspec": {
      "display_name": "Python 3",
      "language": "python",
      "name": "python3"
    },
    "language_info": {
      "codemirror_mode": {
        "name": "ipython",
        "version": 3
      },
      "file_extension": ".py",
      "mimetype": "text/x-python",
      "name": "python",
      "nbconvert_exporter": "python",
      "pygments_lexer": "ipython3",
      "version": "3.7.3"
    },
    "colab": {
      "name": "VPC_exp_modelling.ipynb",
      "provenance": [],
      "collapsed_sections": [],
      "include_colab_link": true
    }
  },
  "cells": [
    {
      "cell_type": "markdown",
      "metadata": {
        "id": "view-in-github",
        "colab_type": "text"
      },
      "source": [
        "<a href=\"https://colab.research.google.com/github/ms337/vpc-exp/blob/master/VPC_exp_modelling.ipynb\" target=\"_parent\"><img src=\"https://colab.research.google.com/assets/colab-badge.svg\" alt=\"Open In Colab\"/></a>"
      ]
    },
    {
      "cell_type": "markdown",
      "metadata": {
        "id": "VZ124K8oCxB3",
        "colab_type": "text"
      },
      "source": [
        "# Python Implementation ported from MATLAB\n",
        "\n"
      ]
    },
    {
      "cell_type": "markdown",
      "metadata": {
        "id": "jCtoKKltCxB4",
        "colab_type": "text"
      },
      "source": [
        "## Package Imports to Support Functionality"
      ]
    },
    {
      "cell_type": "code",
      "metadata": {
        "id": "Vs_B2qjxCxB5",
        "colab_type": "code",
        "colab": {
          "base_uri": "https://localhost:8080/",
          "height": 115
        },
        "outputId": "eb58db77-768a-4af8-c135-acd00cace3be"
      },
      "source": [
        "import matplotlib.pyplot as plt #for plotting graphs and functions\n",
        "from scipy.optimize import curve_fit #for curve fitting see https://docs.scipy.org/doc/scipy/reference/generated/scipy.optimize.curve_fit.html\n",
        "import pandas as pd #for importing data from excel\n",
        "import numpy as np #To support vectorized operations: each vector is treat as a numpy array \n",
        "import scipy.integrate as integrate #integrating function\n",
        "from math import exp, log10, sinh #basic math functions\n",
        "!pip install lmfit\n",
        "from lmfit import Model #Secondt curve fitting tool\n",
        "import csv #to output data in comma separated value format"
      ],
      "execution_count": null,
      "outputs": [
        {
          "output_type": "stream",
          "text": [
            "Requirement already satisfied: lmfit in /usr/local/lib/python3.6/dist-packages (1.0.1)\n",
            "Requirement already satisfied: asteval>=0.9.16 in /usr/local/lib/python3.6/dist-packages (from lmfit) (0.9.18)\n",
            "Requirement already satisfied: numpy>=1.16 in /usr/local/lib/python3.6/dist-packages (from lmfit) (1.18.4)\n",
            "Requirement already satisfied: uncertainties>=3.0.1 in /usr/local/lib/python3.6/dist-packages (from lmfit) (3.1.4)\n",
            "Requirement already satisfied: scipy>=1.2 in /usr/local/lib/python3.6/dist-packages (from lmfit) (1.4.1)\n",
            "Requirement already satisfied: future in /usr/local/lib/python3.6/dist-packages (from uncertainties>=3.0.1->lmfit) (0.16.0)\n"
          ],
          "name": "stdout"
        }
      ]
    },
    {
      "cell_type": "markdown",
      "metadata": {
        "id": "lop6QsoqCxB-",
        "colab_type": "text"
      },
      "source": [
        "## Setup"
      ]
    },
    {
      "cell_type": "markdown",
      "metadata": {
        "id": "abUfvdu-CxB-",
        "colab_type": "text"
      },
      "source": [
        "The following section reads in the data from the Excel file. \n",
        "\n",
        "The data is stored in variables as follows:\n",
        "\n",
        "x : stores the X data col\n",
        "y : stores y data col\n",
        "sigma: stores Error col\n",
        "weights: stores Weight column\n",
        "\n",
        "All these variables are vectors, i.e. numpy arrays\n",
        "Thus all operations on them will be automatically vectorized (mostly).\n"
      ]
    },
    {
      "cell_type": "code",
      "metadata": {
        "id": "bn7GiBQbCxB-",
        "colab_type": "code",
        "colab": {}
      },
      "source": [
        "data = pd.read_excel('./data_to_fit.xlsx')\n",
        "x = np.array(data['X'])\n",
        "y = np.array(data['Y'])\n",
        "sigma = np.array(data['Error'])\n",
        "weights = np.array(data['Weight'])"
      ],
      "execution_count": null,
      "outputs": []
    },
    {
      "cell_type": "markdown",
      "metadata": {
        "id": "S6vQ9PHjCxCB",
        "colab_type": "text"
      },
      "source": [
        "### Helper Functions\n",
        "\n",
        "I have defined some custom functions to use them on them fly to help plot and analyze the data."
      ]
    },
    {
      "cell_type": "code",
      "metadata": {
        "id": "DQalFmJsCxCB",
        "colab_type": "code",
        "colab": {}
      },
      "source": [
        "#Use this whenever you want to print the data points, will need to call this before you plot the\n",
        "#function obtained after fitting so see it overlay on the data points.\n",
        "def print_data():\n",
        "    plt.plot(x, y, 'o', label='data')"
      ],
      "execution_count": null,
      "outputs": []
    },
    {
      "cell_type": "code",
      "metadata": {
        "id": "PTI4Qm4TCxCE",
        "colab_type": "code",
        "colab": {}
      },
      "source": [
        "def r_square(y, y_hat):\n",
        "    ss_res = np.sum((y - y_hat) ** 2)\n",
        "    # total sum of squares\n",
        "    ss_tot = np.sum((y - np.mean(y)) ** 2)\n",
        "    # r-squared\n",
        "    r2 = 1 - (ss_res / ss_tot)\n",
        "    return r2"
      ],
      "execution_count": null,
      "outputs": []
    },
    {
      "cell_type": "code",
      "metadata": {
        "id": "wHtrm8OcCxCG",
        "colab_type": "code",
        "colab": {}
      },
      "source": [
        "def chisq(y, y_hat, uncertainity):\n",
        "    return np.sum( (y - y_hat)**2 / uncertainity**2 )"
      ],
      "execution_count": null,
      "outputs": []
    },
    {
      "cell_type": "markdown",
      "metadata": {
        "id": "tkdarF5WCxCI",
        "colab_type": "text"
      },
      "source": [
        "## Equations\n",
        "\n",
        "1. VPCexp returns the vectorized y vector.\n",
        "2. final_eq is the function which is to be fitted."
      ]
    },
    {
      "cell_type": "code",
      "metadata": {
        "id": "QarGJ4YhCxCI",
        "colab_type": "code",
        "colab": {}
      },
      "source": [
        "def VPCexp(z, Om0, R0, a):\n",
        "    n = len(z)\n",
        "    y = np.zeros(n)\n",
        "    \n",
        "    errors =[0]*n\n",
        "\n",
        "    for i in range(0, n): #vectors/arrays in python start from index 0 rather than 1 as in MATLAB\n",
        "        zl = z[i]\n",
        "        #anonymous function\n",
        "        fun= lambda x: (Om0*(((1+x)**3)*exp((a/3)*(1-(1+x)**(-3)))-(exp(((2*a)/3)*(1-(1+x)**(-3))))+((1+x)**2)))**-0.5\n",
        "        result= integrate.quad(fun, 0, zl) # see https://docs.scipy.org/doc/scipy/reference/generated/scipy.integrate.quad.html\n",
        "        yl = result[0]\n",
        "        dP=R0*sinh(yl/exp((-a/3)*(1-((1+zl)**(-3)))))\n",
        "        y[i] = 5*log10(dP) \n",
        "    return y #returns the vectorized y\n",
        "\n",
        "def final_eq(z, Om0, R0, a):\n",
        "    return VPCexp(z, Om0, R0, a) + 5*np.log10((1+z)) + 25 #also returns vectorized output\n",
        "\n",
        "\n",
        "\n"
      ],
      "execution_count": null,
      "outputs": []
    },
    {
      "cell_type": "markdown",
      "metadata": {
        "id": "pwi51PC1CxCL",
        "colab_type": "text"
      },
      "source": [
        "## Tool 1:  Using Scipy (Recommeded)"
      ]
    },
    {
      "cell_type": "markdown",
      "metadata": {
        "id": "aomOp87uCxCM",
        "colab_type": "text"
      },
      "source": [
        "### Defining initial params\n",
        "Change the values in the first 3 lines to change the initial params passed to the curve_fitting tool"
      ]
    },
    {
      "cell_type": "code",
      "metadata": {
        "id": "kEviYRz0CxCM",
        "colab_type": "code",
        "colab": {}
      },
      "source": [
        "Om0_param = 0.5 #range =0-3\n",
        "R0_param = float(299840/70)  #range=3000-5000\n",
        "a_param = 0.8 #range=0-3\n",
        "init_vals = [Om0_param, R0_param, a_param] #initial_params array will be passed to the curve fitting tool"
      ],
      "execution_count": null,
      "outputs": []
    },
    {
      "cell_type": "markdown",
      "metadata": {
        "id": "y0LP6PjiCxCO",
        "colab_type": "text"
      },
      "source": [
        "## Curve Fitting\n",
        "This is the part when the curve is fit to the data.\n",
        "\n",
        "We use the curve_fit function. See documentation: https://docs.scipy.org/doc/scipy/reference/generated/scipy.optimize.curve_fit.html\n",
        "\n",
        "1. sigma: the vector of uncertainities (our Error column)\n",
        "2. bounds: tuple defined as  ((lower bound for each parameter), (upper bound for each param)) in order of params.\n",
        "3. maxfev: max function evaluations\n",
        "4. absolute_sigma: If True, sigma is used in an absolute sense and the estimated parameter covariance pcov reflects 5. these absolute values.If False, only the relative magnitudes of the sigma values matter. \n",
        "6. final_eq: the function to be fit defined earlier\n",
        "7. x, y: x and y columns from the data\n",
        "\n",
        "By default the tool uses Trust Regions algorithm if bounds are defined. If not, uses LM algorithm.\n",
        "\n",
        "Returns:\n",
        "\n",
        "1. best_vals: the array (vector) of parameters, i.e. [Om0, R0, a], found by the fitting function\n",
        "2. covar: the covariance matrix outputted by the function. See the documentation linked above for details"
      ]
    },
    {
      "cell_type": "code",
      "metadata": {
        "id": "4BG5_KLmCxCO",
        "colab_type": "code",
        "colab": {}
      },
      "source": [
        "best_vals, covar = curve_fit(final_eq, x, y, p0=init_vals, sigma = sigma, maxfev=10000, bounds = ((0, 3000, 0), (3, 5000, 3)), absolute_sigma=True)\n"
      ],
      "execution_count": null,
      "outputs": []
    },
    {
      "cell_type": "code",
      "metadata": {
        "id": "TwO1GJToCxCQ",
        "colab_type": "code",
        "colab": {
          "base_uri": "https://localhost:8080/",
          "height": 411
        },
        "outputId": "d0ff68df-f80f-4007-ca1f-4c86f37edbef"
      },
      "source": [
        "print(\"Om0: \" + str(best_vals[0]))\n",
        "print(\"R0: \" + str(best_vals[1]))\n",
        "print(\"a: \"+ str(best_vals[2]))\n",
        "\n",
        "y_hat = final_eq(x, *best_vals)\n",
        "\n",
        "print_data()\n",
        "plt.plot(x, final_eq(x, *best_vals), 'r-', label='fit')\n",
        "\n",
        "#Print R^2 value\n",
        "r_sq = r_square(y, y_hat)\n",
        "print(\"\\nR-squared = \" + str(r_sq))\n",
        "\n",
        "#Print the chi-squared value\n",
        "chi_sq = chisq(y, y_hat, sigma)\n",
        "print(\"\\nChi-squared = \" + str(chi_sq))\n",
        "\n",
        "#print reduced chi-squared, depends on above chisq calculation, do not need to modify unless size of y or numbers of Params changed\n",
        "red_chisq = chi_sq / (y.size - len(best_vals))\n",
        "print(\"\\nReduced Chi-squared = \" + str(red_chisq))"
      ],
      "execution_count": null,
      "outputs": [
        {
          "output_type": "stream",
          "text": [
            "Om0: 0.6321310781181049\n",
            "R0: 3339.3388719234667\n",
            "a: 1.0787157560139662\n",
            "\n",
            "R-squared = 0.9970765142109538\n",
            "\n",
            "Chi-squared = 1034.5845213100629\n",
            "\n",
            "Reduced Chi-squared = 0.9900330347464716\n"
          ],
          "name": "stdout"
        },
        {
          "output_type": "display_data",
          "data": {
            "image/png": "[encoded data removed]",
            "text/plain": [
              "<Figure size 432x288 with 1 Axes>"
            ]
          },
          "metadata": {
            "tags": [],
            "needs_background": "light"
          }
        }
      ]
    },
    {
      "cell_type": "code",
      "metadata": {
        "id": "x2cqHGCMCxCT",
        "colab_type": "code",
        "colab": {}
      },
      "source": [
        "out_py = y_hat\n",
        "np.savetxt(\"out_py.csv\", out_py, delimiter=\",\")"
      ],
      "execution_count": null,
      "outputs": []
    },
    {
      "cell_type": "markdown",
      "metadata": {
        "id": "s_jBNlXICxCV",
        "colab_type": "text"
      },
      "source": [
        "## Tool 2: Using LmFit"
      ]
    },
    {
      "cell_type": "code",
      "metadata": {
        "id": "VRaNs7QKCxCV",
        "colab_type": "code",
        "colab": {}
      },
      "source": [
        "model = Model(final_eq)\n",
        "model.param_names, model.independent_vars\n",
        "params = model.make_params(Om0=best_vals[0], R0=best_vals[1], a=best_vals[2])"
      ],
      "execution_count": null,
      "outputs": []
    },
    {
      "cell_type": "code",
      "metadata": {
        "id": "dj0RL25YCxCX",
        "colab_type": "code",
        "colab": {
          "base_uri": "https://localhost:8080/",
          "height": 590
        },
        "outputId": "ad194403-091f-42f8-a3a7-5ac08b41b665"
      },
      "source": [
        "result =model.fit(y, params, z=x)\n",
        "print_data()\n",
        "plt.plot(x, result.best_fit)\n",
        "print(\"Fit Report: \")\n",
        "print(result.fit_report())\n"
      ],
      "execution_count": null,
      "outputs": [
        {
          "output_type": "stream",
          "text": [
            "Fit Report: \n",
            "[[Model]]\n",
            "    Model(final_eq)\n",
            "[[Fit Statistics]]\n",
            "    # fitting method   = leastsq\n",
            "    # function evals   = 17\n",
            "    # data points      = 1048\n",
            "    # variables        = 3\n",
            "    chi-square         = 21.3872616\n",
            "    reduced chi-square = 0.02046628\n",
            "    Akaike info crit   = -4072.65186\n",
            "    Bayesian info crit = -4057.78794\n",
            "[[Variables]]\n",
            "    Om0:  0.73624290 +/- 0.08475618 (11.51%) (init = 0.6321311)\n",
            "    R0:   3591.77935 +/- 195.825467 (5.45%) (init = 3339.339)\n",
            "    a:    1.13301213 +/- 0.03995697 (3.53%) (init = 1.078716)\n",
            "[[Correlations]] (unreported correlations are < 0.100)\n",
            "    C(Om0, R0) =  0.997\n",
            "    C(Om0, a)  =  0.837\n",
            "    C(R0, a)   =  0.794\n"
          ],
          "name": "stdout"
        },
        {
          "output_type": "display_data",
          "data": {
            "image/png": "[encoded data removed]",
            "text/plain": [
              "<Figure size 432x288 with 1 Axes>"
            ]
          },
          "metadata": {
            "tags": [],
            "needs_background": "light"
          }
        }
      ]
    },
    {
      "cell_type": "markdown",
      "metadata": {
        "id": "8daTAIYlCxCa",
        "colab_type": "text"
      },
      "source": [
        "# References:\n",
        "\n",
        "1. https://www.physics.utoronto.ca/~phy224_324/web-pages/Lecture_Python_Data_Analysis_ProfClark.pdf \n",
        "2. http://phy224.ca/19-curvefit/index.html\n",
        "3. https://docs.scipy.org/doc/scipy/reference/generated/scipy.integrate.quad.html"
      ]
    },
    {
      "cell_type": "code",
      "metadata": {
        "id": "hpnIETzYCxCa",
        "colab_type": "code",
        "colab": {}
      },
      "source": [
        ""
      ],
      "execution_count": null,
      "outputs": []
    },
    {
      "cell_type": "code",
      "metadata": {
        "id": "g-LFqX2iCxCd",
        "colab_type": "code",
        "colab": {}
      },
      "source": [
        ""
      ],
      "execution_count": null,
      "outputs": []
    }
  ]
}